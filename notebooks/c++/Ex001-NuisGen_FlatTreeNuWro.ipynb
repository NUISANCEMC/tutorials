{
 "cells": [
  {
   "cell_type": "markdown",
   "id": "d3067297-ed01-4978-9ef0-fe12100020f1",
   "metadata": {},
   "source": [
    "# NuWro NUISFLAT Tutorial\n",
    "\n",
    "Nuisflat is a handy tool in nuisance that can be used to produce a flattened root tree that doesn't need any external dependencies to browse. The flat trees are generated from NUISANCE's internal event format so you can use them to compare kinematic variables between generators."
   ]
  },
  {
   "cell_type": "code",
   "execution_count": 1,
   "id": "393a75f3-f99e-441c-8860-245b4abf53da",
   "metadata": {},
   "outputs": [],
   "source": [
    "!nuis-gen NuWro -n 10000 -E T2K_ND -P numu -o nuwro_sample_run.root > nuwro_run.log 2>&1 "
   ]
  },
  {
   "cell_type": "markdown",
   "id": "7aad146f-9d8c-4b7f-822f-f4b42cb89c05",
   "metadata": {},
   "source": [
    "Now the default NuWro output we need extra steps to read, but we can convert into a NUISANCE flat tree to standardise the analysis. We use that using nuisflat."
   ]
  },
  {
   "cell_type": "code",
   "execution_count": 2,
   "id": "5d37defc-3310-4b20-b798-fc5519e34086",
   "metadata": {},
   "outputs": [],
   "source": [
    "!nuisflat -i \"NuWro:nuwro_sample_run.root\" -o nuwro_flat_tree.root >> nuwro_run.log 2>&1 "
   ]
  },
  {
   "cell_type": "markdown",
   "id": "f1f39158-015c-41a9-8f6c-b166a44cdb91",
   "metadata": {},
   "source": [
    "If we ls our folder you'll see we now have two files, one being our flattree which is ready to analyse to play with."
   ]
  },
  {
   "cell_type": "code",
   "execution_count": 3,
   "id": "009db7fd-2922-4ceb-90c3-bff397953852",
   "metadata": {},
   "outputs": [
    {
     "name": "stdout",
     "output_type": "stream",
     "text": [
      "nuwro_flat_tree.root  nuwro_sample_run.root      nuwro_sample_run.root.txt\n",
      "nuwro_run.log         nuwro_sample_run.root.par\n",
      "\n"
     ]
    }
   ],
   "source": [
    "!ls nuwro*"
   ]
  },
  {
   "cell_type": "markdown",
   "id": "e13df4c6-f344-4024-aa2b-7dcbda5e5742",
   "metadata": {},
   "source": [
    "Let's open that flat tree file up. Every flat tree has a ROOT TTree object `FlatTree_VARS` containing the events, and a FLUX and EVT histogram which is normalised so that it can be used for cross-section calculations."
   ]
  },
  {
   "cell_type": "code",
   "execution_count": 4,
   "id": "3c31816f-49e1-420e-bd76-57f8dfc80ff0",
   "metadata": {},
   "outputs": [
    {
     "name": "stdout",
     "output_type": "stream",
     "text": [
      "TFile**\t\tnuwro_flat_tree.root\t\n",
      " TFile*\t\tnuwro_flat_tree.root\t\n",
      "  KEY: TTree\tFlatTree_VARS;1\tFlatTree_VARS\n",
      "  KEY: TH1D\tFlatTree_FLUX;1\tFlatTree_FLUX\n",
      "  KEY: TH1D\tFlatTree_EVT;1\tFlatTree_EVT\n"
     ]
    }
   ],
   "source": [
    "auto f = new TFile(\"nuwro_flat_tree.root\");\n",
    "f->ls();"
   ]
  },
  {
   "cell_type": "markdown",
   "id": "8764bea3-4768-4e83-b25a-1dbe01c31129",
   "metadata": {},
   "source": [
    "We can lists the flattree contents using show, you'll see it has a load of typical kinematic variables (e.g. `Q2` is four momentum transfer squared), alongside the `px,py,pz` variables which correspond to our final state particles."
   ]
  },
  {
   "cell_type": "code",
   "execution_count": 5,
   "id": "a0a515cb-6279-4130-9975-1423a487b45b",
   "metadata": {},
   "outputs": [
    {
     "name": "stdout",
     "output_type": "stream",
     "text": [
      "======> EVENT:0\n",
      " Mode            = 1\n",
      " GENIEResCode    = 9999\n",
      " cc              = 1\n",
      " PDGnu           = 14\n",
      " Enu_true        = 1.71234\n",
      " tgt             = 1000060120\n",
      " tgta            = 12\n",
      " tgtz            = 6\n",
      " PDGLep          = 13\n",
      " ELep            = 1.06252\n",
      " CosLep          = 0.704667\n",
      " Q2              = 1.0762\n",
      " q0              = 0.649825\n",
      " q3              = 1.22412\n",
      " Enu_QE          = 1.67798\n",
      " Q2_QE           = 1.05438\n",
      " W_nuc_rest      = 1.01172\n",
      " W               = 1.01172\n",
      " W_genie         = -999\n",
      " x               = 0.882547\n",
      " y               = 0.379495\n",
      " Erecoil_minerva = 0.102816\n",
      " Erecoil_charged = 0.102816\n",
      " EavAlt          = 0.16786\n",
      " Emiss           = 0.0650436\n",
      " pmiss           = (TVector3*)0x7f5841c0ff10\n",
      " Emiss_preFSI    = 0.0352086\n",
      " pmiss_preFSI    = (TVector3*)0x7f5842060cf0\n",
      " CosThetaAdler   = -999.9\n",
      " PhiAdler        = -999.9\n",
      " dalphat         = 2.61105\n",
      " dpt             = 457.642\n",
      " dphit           = 0.577441\n",
      " pnreco_C        = 0.777935\n",
      " nfsp            = 4\n",
      " px              = -0.547702, \n",
      "                  0.0702102, 0.417741, 0.0789645\n",
      " py              = 0.512604, \n",
      "                  -0.70621, -0.0738027, 0.178035\n",
      " pz              = 0.745011, \n",
      "                  0.691321, -0.15348, 0.265812\n",
      " E               = 1.06252, \n",
      "                  1.36542, 1.04109, 0.995676\n",
      " pdg             = 13, \n",
      "                  2112, 2212, 2112\n",
      " pdg_rank        = 0, \n",
      "                  0, 0, 1\n",
      " ninitp          = 2\n",
      " px_init         = 0, \n",
      "                  -0.091917\n",
      " py_init         = 0, \n",
      "                  -0.0249585\n",
      " pz_init         = 1.71234, \n",
      "                  0.0497192\n",
      " E_init          = 1.71234, \n",
      "                  0.945688\n",
      " pdg_init        = 14, \n",
      "                  2112\n",
      " nvertp          = 4\n",
      " px_vert         = 0, \n",
      "                  -0.091917, -0.547702, 0.455785\n",
      " py_vert         = 0, \n",
      "                  -0.0249585, 0.512604, -0.537562\n",
      " pz_vert         = 1.71234, \n",
      "                  0.0497192, 0.745011, 1.01705\n",
      " E_vert          = 1.71234, \n",
      "                  0.945688, 1.06252, 1.55289\n",
      " pdg_vert        = 14, \n",
      "                  2112, 13, 2212\n",
      " Weight          = 1\n",
      " InputWeight     = 1\n",
      " RWWeight        = 1\n",
      " fScaleFactor    = 1.34835e-42\n",
      " CustomWeight    = 1\n",
      " CustomWeightArray = 1, \n",
      "                  1, 1, 1, 1, 1\n",
      " flagCCINC       = 1\n",
      " flagNCINC       = 0\n",
      " flagCCQE        = 1\n",
      " flagCC0pi       = 1\n",
      " flagCCQELike    = 1\n",
      " flagNCEL        = 0\n",
      " flagNC0pi       = 0\n",
      " flagCCcoh       = 0\n",
      " flagNCcoh       = 0\n",
      " flagCC1pip      = 0\n",
      " flagNC1pip      = 0\n",
      " flagCC1pim      = 0\n",
      " flagNC1pim      = 0\n",
      " flagCC1pi0      = 0\n",
      " flagNC1pi0      = 0\n",
      " flagCC0piMINERvA = 0\n",
      " flagCC0Pi_T2K_AnaI = 1\n",
      " flagCC0Pi_T2K_AnaII = 1\n"
     ]
    }
   ],
   "source": [
    "auto t = (TTree*)f->Get(\"FlatTree_VARS\");\n",
    "t->Show(0);"
   ]
  },
  {
   "cell_type": "markdown",
   "id": "25ebdf28-8c9b-4749-9da5-610e43d2e754",
   "metadata": {},
   "source": [
    "Let's try to make a plot comparing how well MINERvA's definition of the recoil energy, `Erecoil_minerva` matches `q0` for NuWro. We'll turn on jsroot so we can interact with the plot."
   ]
  },
  {
   "cell_type": "code",
   "execution_count": 6,
   "id": "166daaa8-0c35-4604-8da8-16c7c8fff8f2",
   "metadata": {},
   "outputs": [
    {
     "data": {
      "text/html": [
       "\n",
       "\n",
       "<div id=\"root_plot_1709909156782\"\n",
       "     style=\"width: 800px; height: 600px\">\n",
       "</div>\n",
       "<script>\n",
       "\n",
       "function display_root_plot_1709909156782(Core) {\n",
       "   let obj = Core.parse({\"_typename\":\"TCanvas\",\"fUniqueID\":0,\"fBits\":3342344,\"fLineColor\":1,\"fLineStyle\":1,\"fLineWidth\":1,\"fFillColor\":0,\"fFillStyle\":1001,\"fLeftMargin\":0.1,\"fRightMargin\":0.1,\"fBottomMargin\":0.1,\"fTopMargin\":0.1,\"fXfile\":2,\"fYfile\":2,\"fAfile\":1,\"fXstat\":0.99,\"fYstat\":0.99,\"fAstat\":2,\"fFrameFillColor\":0,\"fFrameLineColor\":1,\"fFrameFillStyle\":1001,\"fFrameLineStyle\":1,\"fFrameLineWidth\":1,\"fFrameBorderSize\":1,\"fFrameBorderMode\":0,\"fX1\":-0.250000018626453,\"fY1\":-0.250000018626453,\"fX2\":2.25000001862645,\"fY2\":2.25000001862645,\"fXtoAbsPixelk\":79.60005474453,\"fXtoPixelk\":79.60005474453,\"fXtoPixel\":318.39999525547,\"fYtoAbsPixelk\":514.800046590614,\"fYtoPixelk\":514.800046590614,\"fYtoPixel\":-228.799996590614,\"fUtoAbsPixelk\":5e-5,\"fUtoPixelk\":5e-5,\"fUtoPixel\":796,\"fVtoAbsPixelk\":572.00005,\"fVtoPixelk\":572,\"fVtoPixel\":-572,\"fAbsPixeltoXk\":-0.250000018626453,\"fPixeltoXk\":-0.250000018626453,\"fPixeltoX\":0.00314070356438807,\"fAbsPixeltoYk\":2.25000001862645,\"fPixeltoYk\":-0.250000018626453,\"fPixeltoY\":-0.00437062943575683,\"fXlowNDC\":0,\"fYlowNDC\":0,\"fXUpNDC\":1,\"fYUpNDC\":1,\"fWNDC\":1,\"fHNDC\":1,\"fAbsXlowNDC\":0,\"fAbsYlowNDC\":0,\"fAbsWNDC\":1,\"fAbsHNDC\":1,\"fUxmin\":0,\"fUymin\":0,\"fUxmax\":2,\"fUymax\":2,\"fTheta\":30,\"fPhi\":30,\"fAspectRatio\":0,\"fNumber\":0,\"fTickx\":0,\"fTicky\":0,\"fLogx\":0,\"fLogy\":0,\"fLogz\":0,\"fPadPaint\":0,\"fCrosshair\":0,\"fCrosshairPos\":0,\"fBorderSize\":2,\"fBorderMode\":0,\"fModified\":false,\"fGridx\":false,\"fGridy\":false,\"fAbsCoord\":false,\"fEditable\":true,\"fFixedAspectRatio\":false,\"fPrimitives\":{\"_typename\":\"TList\",\"name\":\"TList\",\"arr\":[{\"_typename\":\"TFrame\",\"fUniqueID\":0,\"fBits\":8,\"fLineColor\":1,\"fLineStyle\":1,\"fLineWidth\":1,\"fFillColor\":0,\"fFillStyle\":1001,\"fX1\":0,\"fY1\":0,\"fX2\":2,\"fY2\":2,\"fBorderSize\":1,\"fBorderMode\":0},{\"_typename\":\"TH2F\",\"fUniqueID\":0,\"fBits\":8,\"fName\":\"hist\",\"fTitle\":\"Erecoil_minerva:q0 \",\"fLineColor\":602,\"fLineStyle\":1,\"fLineWidth\":1,\"fFillColor\":0,\"fFillStyle\":1001,\"fMarkerColor\":1,\"fMarkerStyle\":1,\"fMarkerSize\":1,\"fNcells\":10404,\"fXaxis\":{\"_typename\":\"TAxis\",\"fUniqueID\":0,\"fBits\":0,\"fName\":\"xaxis\",\"fTitle\":\"\",\"fNdivisions\":510,\"fAxisColor\":1,\"fLabelColor\":1,\"fLabelFont\":42,\"fLabelOffset\":0.005,\"fLabelSize\":0.035,\"fTickLength\":0.03,\"fTitleOffset\":1,\"fTitleSize\":0.035,\"fTitleColor\":1,\"fTitleFont\":42,\"fNbins\":100,\"fXmin\":0,\"fXmax\":2,\"fXbins\":[],\"fFirst\":0,\"fLast\":0,\"fBits2\":0,\"fTimeDisplay\":false,\"fTimeFormat\":\"\",\"fLabels\":null,\"fModLabs\":null},\"fYaxis\":{\"_typename\":\"TAxis\",\"fUniqueID\":0,\"fBits\":0,\"fName\":\"yaxis\",\"fTitle\":\"\",\"fNdivisions\":510,\"fAxisColor\":1,\"fLabelColor\":1,\"fLabelFont\":42,\"fLabelOffset\":0.005,\"fLabelSize\":0.035,\"fTickLength\":0.03,\"fTitleOffset\":0,\"fTitleSize\":0.035,\"fTitleColor\":1,\"fTitleFont\":42,\"fNbins\":100,\"fXmin\":0,\"fXmax\":2,\"fXbins\":[],\"fFirst\":0,\"fLast\":0,\"fBits2\":0,\"fTimeDisplay\":false,\"fTimeFormat\":\"\",\"fLabels\":null,\"fModLabs\":null},\"fZaxis\":{\"_typename\":\"TAxis\",\"fUniqueID\":0,\"fBits\":0,\"fName\":\"zaxis\",\"fTitle\":\"\",\"fNdivisions\":510,\"fAxisColor\":1,\"fLabelColor\":1,\"fLabelFont\":42,\"fLabelOffset\":0.005,\"fLabelSize\":0.035,\"fTickLength\":0.03,\"fTitleOffset\":1,\"fTitleSize\":0.035,\"fTitleColor\":1,\"fTitleFont\":42,\"fNbins\":1,\"fXmin\":0,\"fXmax\":1,\"fXbins\":[],\"fFirst\":0,\"fLast\":0,\"fBits2\":0,\"fTimeDisplay\":false,\"fTimeFormat\":\"\",\"fLabels\":null,\"fModLabs\":null},\"fBarOffset\":0,\"fBarWidth\":1000,\"fEntries\":10000,\"fTsumw\":8841,\"fTsumw2\":8841,\"fTsumwx\":3590.44251429103,\"fTsumwx2\":2853.29403207593,\"fMaximum\":-1111,\"fMinimum\":-1111,\"fNormFactor\":0,\"fContour\":{\"$arr\":\"Float64\",\"len\":20,\"p\":1,\"v\":[9.3,18.6,27.9,37.2,46.5,55.8,65.1,74.4,83.7,93,102.3,111.6,120.9,130.2,139.5,148.8,158.1,167.4,176.7]},\"fSumw2\":[],\"fOption\":\"\",\"fFunctions\":{\"_typename\":\"TList\",\"name\":\"TList\",\"arr\":[{\"_typename\":\"TPaletteAxis\",\"fUniqueID\":0,\"fBits\":0,\"fLineColor\":1,\"fLineStyle\":1,\"fLineWidth\":1,\"fFillColor\":1178,\"fFillStyle\":1001,\"fX1\":2.01250000018626,\"fY1\":0,\"fX2\":2.12500000186265,\"fY2\":2,\"fX1NDC\":0.904999994039535,\"fY1NDC\":0.100000005960465,\"fX2NDC\":0.949999994039535,\"fY2NDC\":0.899999994039535,\"fBorderSize\":4,\"fInit\":1,\"fShadowColor\":1,\"fCornerRadius\":0,\"fOption\":\"br\",\"fName\":\"palette\",\"fAxis\":{\"_typename\":\"TGaxis\",\"fUniqueID\":0,\"fBits\":0,\"fLineColor\":1,\"fLineStyle\":1,\"fLineWidth\":1,\"fX1\":0,\"fY1\":0,\"fX2\":0,\"fY2\":0,\"fTextAngle\":0,\"fTextSize\":0.04,\"fTextAlign\":11,\"fTextColor\":1,\"fTextFont\":42,\"fWmin\":0,\"fWmax\":0,\"fGridLength\":0,\"fTickSize\":0.03,\"fLabelOffset\":0.005,\"fLabelSize\":0.035,\"fTitleOffset\":1,\"fTitleSize\":0.035,\"fNdiv\":0,\"fLabelColor\":1,\"fLabelFont\":42,\"fNModLabs\":0,\"fChopt\":\"\",\"fName\":\"\",\"fTitle\":\"\",\"fTimeFormat\":\"\",\"fFunctionName\":\"\",\"fModLabs\":null}},{\"_typename\":\"TPaveStats\",\"fUniqueID\":0,\"fBits\":9,\"fLineColor\":1,\"fLineStyle\":1,\"fLineWidth\":1,\"fFillColor\":0,\"fFillStyle\":1001,\"fX1\":1.70000005066395,\"fY1\":1.48750002663583,\"fX2\":2.20000006556511,\"fY2\":2.08750002216548,\"fX1NDC\":0.780000016093254,\"fY1NDC\":0.695000007748604,\"fX2NDC\":0.980000019073486,\"fY2NDC\":0.935000002384186,\"fBorderSize\":1,\"fInit\":1,\"fShadowColor\":1,\"fCornerRadius\":0,\"fOption\":\"brNDC\",\"fName\":\"stats\",\"fTextAngle\":0,\"fTextSize\":0,\"fTextAlign\":12,\"fTextColor\":1,\"fTextFont\":42,\"fLabel\":\"\",\"fLongest\":18,\"fMargin\":0.05,\"fLines\":{\"_typename\":\"TList\",\"name\":\"TList\",\"arr\":[{\"_typename\":\"TLatex\",\"fUniqueID\":0,\"fBits\":0,\"fName\":\"\",\"fTitle\":\"hist\",\"fTextAngle\":0,\"fTextSize\":0.0368,\"fTextAlign\":0,\"fTextColor\":0,\"fTextFont\":0,\"fX\":0,\"fY\":0,\"fLineColor\":1,\"fLineStyle\":1,\"fLineWidth\":2,\"fLimitFactorSize\":3,\"fOriginSize\":0.0368000008165836},{\"_typename\":\"TLatex\",\"fUniqueID\":0,\"fBits\":0,\"fName\":\"\",\"fTitle\":\"Entries = 10000  \",\"fTextAngle\":0,\"fTextSize\":0,\"fTextAlign\":0,\"fTextColor\":0,\"fTextFont\":0,\"fX\":0,\"fY\":0,\"fLineColor\":1,\"fLineStyle\":1,\"fLineWidth\":2,\"fLimitFactorSize\":3,\"fOriginSize\":0.04},{\"_typename\":\"TLatex\",\"fUniqueID\":0,\"fBits\":0,\"fName\":\"\",\"fTitle\":\"Mean x = 0.4061\",\"fTextAngle\":0,\"fTextSize\":0,\"fTextAlign\":0,\"fTextColor\":0,\"fTextFont\":0,\"fX\":0,\"fY\":0,\"fLineColor\":1,\"fLineStyle\":1,\"fLineWidth\":2,\"fLimitFactorSize\":3,\"fOriginSize\":0.04},{\"_typename\":\"TLatex\",\"fUniqueID\":0,\"fBits\":0,\"fName\":\"\",\"fTitle\":\"Mean y = 0.2862\",\"fTextAngle\":0,\"fTextSize\":0,\"fTextAlign\":0,\"fTextColor\":0,\"fTextFont\":0,\"fX\":0,\"fY\":0,\"fLineColor\":1,\"fLineStyle\":1,\"fLineWidth\":2,\"fLimitFactorSize\":3,\"fOriginSize\":0.04},{\"_typename\":\"TLatex\",\"fUniqueID\":0,\"fBits\":0,\"fName\":\"\",\"fTitle\":\"Std Dev x = 0.3972\",\"fTextAngle\":0,\"fTextSize\":0,\"fTextAlign\":0,\"fTextColor\":0,\"fTextFont\":0,\"fX\":0,\"fY\":0,\"fLineColor\":1,\"fLineStyle\":1,\"fLineWidth\":2,\"fLimitFactorSize\":3,\"fOriginSize\":0.04},{\"_typename\":\"TLatex\",\"fUniqueID\":0,\"fBits\":0,\"fName\":\"\",\"fTitle\":\"Std Dev y = 0.3172\",\"fTextAngle\":0,\"fTextSize\":0,\"fTextAlign\":0,\"fTextColor\":0,\"fTextFont\":0,\"fX\":0,\"fY\":0,\"fLineColor\":1,\"fLineStyle\":1,\"fLineWidth\":2,\"fLimitFactorSize\":3,\"fOriginSize\":0.04}],\"opt\":[\"\",\"\",\"\",\"\",\"\",\"\"]},\"fOptFit\":0,\"fOptStat\":1111,\"fFitFormat\":\"5.4g\",\"fStatFormat\":\"6.4g\",\"fParent\":{\"$ref\":3}}],\"opt\":[\"br\",\"brNDC\"]},\"fBufferSize\":0,\"fBuffer\":[],\"fBinStatErrOpt\":0,\"fStatOverflows\":2,\"fScalefactor\":1,\"fTsumwy\":2530.55395319241,\"fTsumwy2\":1613.78515974354,\"fTsumwxy\":2006.71914374012,\"fArray\":{\"$arr\":\"Float32\",\"len\":10404,\"p\":103,\"v\":[13,77,97,113,84,60,55,48,30,34,34,30,23,12,16,11,22,14,9,10,4,4,8,3,3,3,3,2,0,2,0,1,0,1,1,0,2,0,0,0,0,0,0,0,0,0,1,0,1,0,0,0,0,0,1,0,0,0,0,0,1,0,0,0,1,1,1,0,1,1,0,1,0,0,1,0,0,0,1,0,0,0,0,2,0,2,0,0,1,0,0,1,0,0,0,0,1,1,0,1,27,0,0,49,103,54,40,31,18,17,12,4,2,8,6,3,2,7,5,0,4,4,2,2,2,3,0,0,0,0,0,1,0,0,1],\"p1\":253,\"v1\":1,\"p2\":304,\"v2\":[1,0,0,0,0,77,113,58,32,22,16,13,10,7,4,7,5,1,3,2,1,5,5,0,1,1,2,2,1,1,1,1,0,0,2],\"p3\":353,\"v3\":1,\"p4\":388,\"v4\":1,\"p5\":407,\"v5\":[1,0,0,0,0,79,154,56,27,14,15,9,4,2,8,3,9,5,3,6,5,3,3,2,2,1,1,0,1,1,4,0,1],\"p6\":469,\"v6\":2,\"p7\":486,\"v7\":1,\"p8\":515,\"v8\":[95,171,53,15,9,9,8,4,4,12,4,3,5,5,5,6,3,2,1,4,2,2,2,0,0,1,1,1,0,0,1,0,0,0,0,0,0,1,0,0,0,0,0,0,0,0,3,0,0,0,0,0,1],\"p9\":581,\"v9\":1,\"p10\":611,\"v10\":[1,0,0,0,0,0,0,95,186,38,18,13,7,6,6,2,5,8,10,7,10,10,3,1,3,5,2,5,3,0,2,2,1,0,1,1,2,0,2,0,0,1,1,0,0,0,0,0,0,0,0,1],\"p11\":696,\"v11\":1,\"p12\":713,\"v12\":[1,0,0,0,0,0,0,0,108,183,43,27,3,10,4,4,8,8,6,10,6,7,1,4,1,1,0,0,3,1,1,0,2,0,1],\"p13\":761,\"v13\":[1,0,0,0,0,0,0,0,0,1],\"p14\":781,\"v14\":[1,0,0,0,1],\"p15\":808,\"v15\":[1,0,0,0,0,0,0,3,0,0,0,0,0,0,0,0,100,173,39,12,9,5,4,3,6,7,8,9,6,5,4,5,3,4,1,1,2,4,1,1,0,1,0,0,1,0,2,1,0,1,1],\"p16\":895,\"v16\":[1,0,0,0,0,0,1],\"p17\":912,\"v17\":[1,0,0,0,0,4,0,0,0,0,0,0,0,0,0,77,152,35,12,13,7,5,4,6,11,15,8,7,4,3,1,5,1,1,2,4,0,1,1,0,0,1,1,1,0,0,0,1],\"p18\":970,\"v18\":[1,0,0,0,0,1,0,0,0,0,0,1,0,0,0,0,0,0,0,0,0,1,0,0,1],\"p19\":1008,\"v19\":1,\"p20\":1019,\"v20\":4,\"p21\":1030,\"v21\":[84,125,28,10,5,6,3,2,14,16,22,11,6,3,3,7,4,3,0],\"v22\":1,\"n22\":6,\"p23\":1063,\"v23\":[2,1,0,1,0,0,0,0,1,1,0,0,0,0,0,0,0,0,1,0,1,0,0,0,0,0,0,0,0,1],\"p24\":1119,\"v24\":[1,0,2],\"p25\":1133,\"v25\":[78,148,22,14,8,5,5,7,16,11,10,13,10,4,6,4,2,3,1,2,1,2,1],\"p26\":1166,\"v26\":[1,0,0,0,0,1],\"p27\":1186,\"v27\":1,\"p28\":1223,\"v28\":4,\"p29\":1236,\"v29\":[65,102,26,11,8,5,8,8,11,24,12,11,9,6,2,4,2,3,0,1,3,0,0,0,3,1,0,2,0,2,0,2,0,0,0,0,1],\"p30\":1287,\"v30\":1,\"p31\":1301,\"v31\":1,\"p32\":1318,\"v32\":[1,0,0,0,1,0,0,5],\"p33\":1339,\"v33\":[57,92,27,13,4,11,7,4,14,16,11,6,7,3,3,3,1,0,1,0,3,0,0,1,0,0,0,1,0,0,0,0,0,0,1,0,0,0,0,1,0,0,0,0,0,1,0,0,0,2],\"p34\":1420,\"v34\":[1,0,0,0,0,0,0,2],\"p35\":1442,\"v35\":[50,86,20,8,4,9,6,1,20,16,13,2,2,4,1,1,3,0,2,1,1,0,1,0,2,0,0,0,0,0,0,1,0,0,0,1,0,0,1,0,0,0,0,1,1],\"p36\":1521,\"v36\":[1,1,0,0,0,0,0,0,5],\"p37\":1545,\"v37\":[38,72,15,8,5,8,2,3,17,21,15,6,6,1,2,1,1,2,2,2,0,1,0,0,1,0,1,0,0,1,0,0,0,1],\"p38\":1595,\"v38\":[2,1,0,0,0,1],\"p39\":1614,\"v39\":[1,0,0,0,0,0,0,0,0,1,0,0,0,0,0,0,0,1],\"p40\":1648,\"v40\":[40,64,14,19,7,5,3,9,7,11,15,4,1,1,3,0,1,1,3,0,0,0,2,0,0,0,0,0,0,0,1,0,0,1,0,0,0,0,0,1,0,0,0,1,0,0,1,0,1,0,0,0,0,0,0,0,0,0,1],\"p41\":1733,\"v41\":4,\"p42\":1751,\"v42\":[37,66,16,8,10,4,5,4,15,16,14,4,1,2,2,2,2,0,2,1,1,0,1,0,1,0,1,1,0,0,0,0,0,1,1,0,0,0,2,0,0,2,0,1,0,0,0,0,0,0,0,1],\"p43\":1835,\"v43\":1,\"p44\":1854,\"v44\":[34,44,16,13,7,7,4,5,11,8,8,2,1,1,1,0,0,0,1,0,0,0,0,0,1,0,1,0,0,0,0,0,0,1],\"p45\":1905,\"v45\":[1,0,0,0,0,0,0,0,0,1,0,0,0,0,0,0,0,1],\"p46\":1937,\"v46\":3,\"p47\":1957,\"v47\":[24,41,8,17,10,2,5,1,9,7,11,3,2,1,1,2,0,0,0,0,1,1,1,1,1,0,0,0,0,0,0,0,0,0,1,1,0,0,0,0,0,0,1,0,0,1],\"p48\":2039,\"v48\":5,\"p49\":2060,\"v49\":[27,48,10,18,2,5,4,3,10,10,9,4,3,2,1,1,1,1,0,0,3,1,1,1,1],\"p50\":2098,\"v50\":[1,0,0,1,0,1,1,1,0,0,0,0,0,0,0,1],\"p51\":2133,\"v51\":[1,0,0,0,0,0,0,0,1],\"p52\":2163,\"v52\":[17,40,18,8,4,5,1,2,7,7,8,5,1,1,0,2,1,1,0,0,2,1,0,0,1,0,0,1,1],\"p53\":2203,\"v53\":1,\"p54\":2243,\"v54\":1,\"p55\":2266,\"v55\":[18,22,15,8,4,1,1,1,7,9,6,3,1,0,0,1,1,0,1,1,1,0,0,0,1],\"p56\":2301,\"v56\":1,\"p57\":2317,\"v57\":1,\"p58\":2345,\"v58\":3,\"p59\":2369,\"v59\":[12,39,18,4,9,4,4,2,7,10,7,5,2,1,0,1,1,0,0,1,1,2,0,0,1,0,0,0,0,0,0,0,0,1,0,0,0,0,0,0,1,1,1],\"p60\":2424,\"v60\":[1,0,0,0,0,0,0,0,0,0,1,0,0,0,0,0,1],\"p61\":2472,\"v61\":[11,16,6,12,2,4,0,2,12,3,3,3,1,0,1,1,2,1,1,0,1,1,0,1,0,0,0,0,1,0,0,0,0,0,0,0,1,0,0,1,0,0,0,1],\"p62\":2529,\"v62\":1,\"p63\":2549,\"v63\":1,\"p64\":2575,\"v64\":[14,24,6,2,3,1,3,1,1,4,5,0,1,1,0,0,0,0,0,1,0,0,1,2,0,0,0,0,0,1,1,1,1],\"p65\":2618,\"v65\":1,\"p66\":2638,\"v66\":[1,0,1,0,0,0,0,0,1,0,0,0,0,3],\"p67\":2678,\"v67\":[4,12,5,5,1,2,0,2,5,8,6,0,1,0,0,1,0,1,1,0,0,0,0,0,1,0,0,0,1,1,0,0,0,0,0,0,1,0,0,0,0,0,1],\"p68\":2737,\"v68\":1,\"p69\":2781,\"v69\":[6,10,12,11,6,2,1,1,6,4,7,2,1,1,0,0,0,0,0,1,0,1,1,0,0,0,1,0,0,0,0,0,0,1,1],\"p70\":2839,\"v70\":1,\"p71\":2855,\"v71\":2,\"p72\":2884,\"v72\":[7,15,8,1,4,1,2,1,5,3,3,2,1,1,0,1,1,1,0,1,0,2,0,0,1,1,1,0,0,0,1],\"p73\":2957,\"v73\":2,\"p74\":2987,\"v74\":[8,9,6,3,4,2,1,3,3,2,3,3,1,1,0,1,1,0,0,0,1,0,1,0,0,0,0,0,1],\"p75\":3051,\"v75\":[1,0,0,0,1,0,0,1,2],\"p76\":3090,\"v76\":[7,7,3,3,0,2,0,0,4,4,4,0,0,1,1,0,2,0,1,0,0,1,2,0,0,1,0,0,0,0,0,0,0,1],\"p77\":3161,\"v77\":3,\"p78\":3193,\"v78\":[4,9,5,5,1,1,0,0,2,5,2,0,1,0,0,1,1,0,1,1,0,0,1,0,0,1],\"p79\":3233,\"v79\":[1,0,0,0,0,0,0,1,0,0,0,0,0,1],\"p80\":3263,\"v80\":3,\"p81\":3296,\"v81\":[2,6,6,5,1,0,1,2,4,5,1,1,1,1,2,0,0,0,1,0,0,0,1,1],\"p82\":3331,\"v82\":[1,0,0,0,1,0,0,0,0,1,0,0,0,0,0,0,0,1,0,1,0,0,0,0,0,0,1,0,0,1,0,0,0,0,2],\"p83\":3400,\"v83\":[7,5,1,2,1,0,1,2,0,5,0,0,1,0,0,2,0,1,1,0,0,0,0,0,1,0,0,0,0,0,1,0,0,1,0,0,0,1,0,1],\"p84\":3458,\"v84\":[1,0,0,0,0,0,0,0,0,1],\"p85\":3502,\"v85\":[5,5,6,3,1,0,0,1,1,1,3,1,1,0,1,0,0,2,0,0,3,1,1,1,0,0,0,0,0,1,0,0,0,1,1],\"p86\":3569,\"v86\":4,\"p87\":3605,\"v87\":[6,9,4,3,0,1,0,0,1,3,0,2,2,0,0,1,0,0,0,0,0,1],\"p88\":3642,\"v88\":[1,0,0,0,0,1],\"p89\":3659,\"v89\":1,\"p90\":3671,\"v90\":5,\"p91\":3708,\"v91\":[2,6,0,0,1,1,0,0,1,4,1,0,1,0,0,1,0,1,0,0,0,1,1,2,0,0,0,1,0,1,0,0,0,0,1,0,1],\"p92\":3773,\"v92\":4,\"p93\":3811,\"v93\":[3,3,2,3,2,1,1,0,2,0,4,1,0,0,1,1,0,1,0,0,0,0,0,0,0,2,0,0,0,1],\"p94\":3851,\"v94\":2,\"p95\":3875,\"v95\":3,\"p96\":3914,\"v96\":[2,0,1,3,1,2,0,0,2,3,2,0,0,1,0,2,0,2,0,0,2,0,1,0,0,2,1,0,0,0,2],\"p97\":3956,\"v97\":[1,0,2],\"p98\":4017,\"v98\":[1,0,2,1,0,0,0,0,3,2,1,0,0,1,2,2,1,1,2,0,0,0,0,0,0,1,0,0,0,0,0,1],\"p99\":4066,\"v99\":[1,1],\"p100\":4079,\"v100\":3,\"p101\":4120,\"v101\":[2,5,2,2,1,0,0,0,2,3,1,0,0,0,0,0,0,2,0,0,0,1],\"p102\":4164,\"v102\":1,\"p103\":4179,\"v103\":[2,0,3],\"p104\":4223,\"v104\":[4,3,2,2,0,1,0,0,0,1,4,0,1,1],\"p105\":4260,\"v105\":1,\"p106\":4283,\"v106\":2,\"p107\":4326,\"v107\":[2,4,4,2,2,0,0,1,0,3,1,2,0,1,0,0,0,1,0,0,1,1,0,0,1,0,0,0,0,1],\"p108\":4385,\"v108\":3,\"p109\":4429,\"v109\":[2,5,0,0,1,0,0,0,1,3,1,3,0,0,0,0,2,0,0,1,0,0,0,0,0,0,1,0,0,2,0,0,0,0,0,0,0,0,0,1,0,0,0,0,1,0,0,1,0,1,0,0,0,0,0,0,0,0,1],\"p110\":4533,\"v110\":[2,0,1,2,0,0,1,0,0,0,0,0,0,1,1,0,0,0,1,0,0,1,0,0,0,1,1],\"p111\":4576,\"v111\":[1,0,0,0,0,0,0,0,0,1,0,0,0,3],\"p112\":4635,\"v112\":[1,3,1,0,0,0,0,0,2,2,2,2,0,0,0,0,1,0,0,0,0,0,0,0,0,0,1,0,0,1],\"p113\":4676,\"v113\":1,\"p114\":4689,\"v114\":[1,1,2],\"p115\":4738,\"v115\":[1,1,1,0,0,0,0,0,3,3,4,0,0,0,0,1,0,0,1,0,1,0,0,0,0,1,0,0,0,0,0,1],\"p116\":4785,\"v116\":[1,0,0,0,0,0,0,0,4],\"p117\":4841,\"v117\":[2,3,2,2,0,0,0,1,2,1,1,0,0,0,0,0,1,1,0,0,1],\"p118\":4872,\"v118\":1,\"p119\":4892,\"v119\":1,\"p120\":4945,\"v120\":[1,2,1,1,0,0,0,1,1,4,0,1,0,0,0,1,1],\"p121\":4976,\"v121\":1,\"p122\":4996,\"v122\":[1,2],\"p123\":5048,\"v123\":[3,2,2,1,0,0,0,0,2,4,2,0,0,0,1,1,0,0,0,0,0,1],\"p124\":5092,\"v124\":[1,0,0,0,1,0,0,1],\"p125\":5150,\"v125\":[1,3,0,1,0,0,0,0,0,0,1,0,2,0,0,2,0,2,0,0,1,1,2,0,0,0,0,0,0,0,0,1,0,0,0,0,1],\"p126\":5197,\"v126\":[2,0,0,0,4],\"p127\":5253,\"v127\":[2,3,0,1,0,0,0,0,0,3,1,0,0,0,0,0,1,0,1,1,1,0,1,0,0,1,2,0,0,0,0,0,0,1],\"p128\":5299,\"v128\":[1,0,0,0,1],\"p129\":5356,\"v129\":[1,3,2,0,1,0,0,1,3,2,1,1,1,0,2],\"p130\":5390,\"v130\":1,\"p131\":5405,\"v131\":8,\"p132\":5460,\"v132\":[2,1,1,0,0,0,1,0,4,4,1,0,0,1,0,0,1,0,0,0,0,0,0,0,0,0,1,0,0,0,1,1],\"p133\":5507,\"v133\":6,\"p134\":5564,\"v134\":[1,1,1,0,0,1,2,3,1,0,1,0,0,0,1,0,0,0,0,0,0,0,0,1,0,0,0,2,0,2,0,1,0,0,0,0,0,0,1,0,0,0,0,0,1,3],\"p135\":5666,\"v135\":[1,2,1,0,0,0,0,1,1,0,0,0,0,0,0,1,1],\"p136\":5705,\"v136\":[1,0,0,0,0,0,1],\"p137\":5768,\"v137\":[1,5,0,0,0,0,0,0,1,0,1,1,0,0,1,0,2,0,1,0,0,0,0,0,0,1],\"p138\":5805,\"v138\":[1,0,0,0,0,0,0,0,2],\"p139\":5872,\"v139\":[1,0,1,0,0,0,0,0,3,1,1,0,0,0,1],\"p140\":5905,\"v140\":[1,0,0,1,0,0,0,0,0,0,1],\"p141\":5975,\"v141\":[1,1,0,0,0,2,1,0,2,0,1,0,0,0,1,1,2,0,0,0,1,0,1,0,0,0,0,0,0,1],\"p142\":6017,\"v142\":3,\"p143\":6078,\"v143\":[1,3,1,0,0,1,0,1,1,1,1,0,1,0,0,1,1,0,1,0,1,0,0,0,1,1,1,0,0,0,0,0,0,0,0,0,1,0,0,0,0,3],\"p144\":6182,\"v144\":[4,2,2,0,0,0,1,1,1],\"p145\":6201,\"v145\":[1,0,0,1,0,0,0,1,0,0,0,1,0,0,1,0,0,0,0,0,3],\"p146\":6290,\"v146\":1,\"n146\":6,\"p147\":6297,\"v147\":[1,1,0,2,0,0,0,0,0,1],\"p148\":6318,\"v148\":[1,0,0,0,0,5],\"p149\":6387,\"v149\":[2,1,3,0,1,0,0,0,4,1,0,0,0,0,0,2,1,0,0,0,0,0,1,0,1],\"p150\":6425,\"v150\":1,\"p151\":6489,\"v151\":[1,1,1,2,0,0,0,0,2,0,0,0,0,1,0,2],\"p152\":6518,\"v152\":[1,1,0,0,0,0,0,0,0,3],\"p153\":6592,\"v153\":[1,1,4,3,0,0,0,0,0,1,1,0,0,1,0,1,0,0,1,0,0,1],\"p154\":6629,\"v154\":2,\"p155\":6696,\"v155\":[1,0,1,1,0,0,0,0,0,0,1,0,1,0,0,0,0,0,0,1,0,0,0,0,0,0,2,0,0,0,0,0,1,0,0,4],\"p156\":6799,\"v156\":[3,0,2,0,1,0,0,0,1,0,0,0,0,1,0,1,1,1,0,0,0,0,0,1,0,1,1,0,0,0,0,0,1,1,1],\"p157\":6903,\"v157\":[1,0,0,0,0,0,2,2,0,0,1,0,1,0,2],\"p158\":6935,\"v158\":1,\"p159\":7005,\"v159\":[2,4,2,0,0,1,0,1,3,0,0,1,0,0,0,0,1,1,0,0,0,0,0,0,0,0,1,0,0,0,0,0,4],\"p160\":7108,\"v160\":[1,2,1,0,0,0,0,0,0,2,2,0,0,0,1,1,1],\"p161\":7139,\"v161\":1,\"p162\":7212,\"v162\":[1,0,0,0,2,2,0,1,0,1,0,0,0,1,0,1,1,0,1,0,0,1,0,0,0,0,0,1,0,3],\"p163\":7313,\"v163\":[2,2,2,0,0,0,1,1,1,0,1,0,0,0,0,0,0,1],\"p164\":7342,\"v164\":[1,7],\"p165\":7416,\"v165\":[1,0,1,0,2,0,1,0,0,1,0,0,1,0,0,1,0,1,1,0,0,0,0,0,1,0,0,0,0,1],\"p166\":7523,\"v166\":[1,0,0,0,1,0,2,1,0,0,0,0,1,0,0,0,1,0,0,0,0,0,0,0,1],\"p167\":7624,\"v167\":[1,2,2,0,1,0,1,0,1,0,0,0,0,0,1,0,0,1,0,1,0,0,0,0,0,5],\"p168\":7726,\"v168\":[1,1,0,0,0,0,0,0,1,2,1,0,0,0,2,0,1,0,1,0,0,0,0,0,0,2],\"p169\":7830,\"v169\":[3,1,0,1,0,0,0,0,1],\"p170\":7851,\"v170\":[2,0,3],\"p171\":7933,\"v171\":[1,0,0,0,0,0,0,3,1,1,0,0,0,2,1,0,0,0,0,0,0,1,3],\"p172\":8043,\"v172\":[1,1,0,0,0,0,0,0,1,0,0,0,0,0,2],\"p173\":8143,\"v173\":[1,0,0,0,1,1,0,0,0,0,0,3,0,1,0,1,4],\"p174\":8240,\"v174\":[1,0,1,1,0,0,0,0,1,3,3,0,0,0,0,1,1,1,1,0,0,8],\"p175\":8344,\"v175\":[1,2,0,0,0,0,1,1,1,1,0,1,0,0,0,0,2,0,0,1],\"p176\":8446,\"v176\":[1,0,0,1,0,0,0,0,2,1,0,0,0,0,0,0,1,0,0,2],\"p177\":8551,\"v177\":[1,1,0,0,0,0,0,2,0,0,0,0,0,3,1,1,4],\"p178\":8655,\"v178\":[1,0,0,0,0,0,1,1,0,0,0,0,0,1,6],\"p179\":8759,\"v179\":[1,0,0,0,0,0,2,0,0,0,0,2,7],\"p180\":8860,\"v180\":[1,0,0,0,0,0,1,1,2,0,0,0,0,3],\"p181\":8963,\"v181\":[1,0,1,0,0,0,0,2,0,1,0,1,5],\"p182\":9065,\"v182\":[1,0,0,0,0,0,0,2,0,1,0,0,6],\"p183\":9169,\"v183\":[1,0,1,0,0,0,0,0,0,0,5],\"p184\":9270,\"v184\":[1,0,0,1,0,0,0,0,0,1,0,6],\"p185\":9376,\"v185\":[1,0,0,0,0,0,0,3],\"p186\":9477,\"v186\":[1,1,0,0,0,0,0,1,9],\"p187\":9580,\"v187\":[2,0,0,0,0,0,0,11],\"p188\":9683,\"v188\":[1,0,0,0,0,0,4],\"p189\":9786,\"v189\":[1,2,0,0,0,8],\"p190\":9892,\"v190\":[1,7],\"p191\":9992,\"v191\":[1,1,1,8],\"p192\":10094,\"v192\":[1,0,0,10],\"p193\":10199,\"v193\":8,\"p194\":10301,\"v194\":7,\"p195\":10403,\"v195\":806}},{\"_typename\":\"TPaveText\",\"fUniqueID\":0,\"fBits\":9,\"fLineColor\":1,\"fLineStyle\":1,\"fLineWidth\":1,\"fFillColor\":0,\"fFillStyle\":0,\"fX1\":0.535301500613141,\"fY1\":2.08540212599678,\"fX2\":1.46469849938686,\"fY2\":2.23750003036112,\"fX1NDC\":0.314120603015075,\"fY1NDC\":0.934160843929211,\"fX2NDC\":0.685879396984925,\"fY2NDC\":0.995000004768372,\"fBorderSize\":0,\"fInit\":1,\"fShadowColor\":1,\"fCornerRadius\":0,\"fOption\":\"blNDC\",\"fName\":\"title\",\"fTextAngle\":0,\"fTextSize\":0,\"fTextAlign\":22,\"fTextColor\":1,\"fTextFont\":42,\"fLabel\":\"\",\"fLongest\":19,\"fMargin\":0.05,\"fLines\":{\"_typename\":\"TList\",\"name\":\"TList\",\"arr\":[{\"_typename\":\"TLatex\",\"fUniqueID\":0,\"fBits\":0,\"fName\":\"\",\"fTitle\":\"Erecoil_minerva:q0 \",\"fTextAngle\":0,\"fTextSize\":0,\"fTextAlign\":0,\"fTextColor\":0,\"fTextFont\":0,\"fX\":0,\"fY\":0,\"fLineColor\":1,\"fLineStyle\":1,\"fLineWidth\":2,\"fLimitFactorSize\":3,\"fOriginSize\":0.0517132878303528}],\"opt\":[\"\"]}},{\"_typename\":\"TStyle\",\"fUniqueID\":0,\"fBits\":0,\"fName\":\"Modern\",\"fTitle\":\"Modern Style\",\"fLineColor\":1,\"fLineStyle\":1,\"fLineWidth\":1,\"fFillColor\":19,\"fFillStyle\":1001,\"fMarkerColor\":1,\"fMarkerStyle\":1,\"fMarkerSize\":1,\"fTextAngle\":0,\"fTextSize\":0.05,\"fTextAlign\":11,\"fTextColor\":1,\"fTextFont\":62,\"fXaxis\":{\"_typename\":\"TAttAxis\",\"fNdivisions\":510,\"fAxisColor\":1,\"fLabelColor\":1,\"fLabelFont\":42,\"fLabelOffset\":0.005,\"fLabelSize\":0.035,\"fTickLength\":0.03,\"fTitleOffset\":1,\"fTitleSize\":0.035,\"fTitleColor\":1,\"fTitleFont\":42},\"fYaxis\":{\"_typename\":\"TAttAxis\",\"fNdivisions\":510,\"fAxisColor\":1,\"fLabelColor\":1,\"fLabelFont\":42,\"fLabelOffset\":0.005,\"fLabelSize\":0.035,\"fTickLength\":0.03,\"fTitleOffset\":0,\"fTitleSize\":0.035,\"fTitleColor\":1,\"fTitleFont\":42},\"fZaxis\":{\"_typename\":\"TAttAxis\",\"fNdivisions\":510,\"fAxisColor\":1,\"fLabelColor\":1,\"fLabelFont\":42,\"fLabelOffset\":0.005,\"fLabelSize\":0.035,\"fTickLength\":0.03,\"fTitleOffset\":1,\"fTitleSize\":0.035,\"fTitleColor\":1,\"fTitleFont\":42},\"fBarWidth\":1,\"fBarOffset\":0,\"fColorModelPS\":0,\"fDrawBorder\":0,\"fOptLogx\":0,\"fOptLogy\":0,\"fOptLogz\":0,\"fOptDate\":0,\"fOptStat\":1111,\"fOptTitle\":1,\"fOptFile\":0,\"fOptFit\":0,\"fShowEventStatus\":0,\"fShowEditor\":0,\"fShowToolBar\":0,\"fNumberContours\":20,\"fAttDate\":{\"_typename\":\"TAttText\",\"fTextAngle\":0,\"fTextSize\":0.025,\"fTextAlign\":11,\"fTextColor\":1,\"fTextFont\":62},\"fDateX\":0.01,\"fDateY\":0.01,\"fEndErrorSize\":2,\"fErrorX\":0.5,\"fFuncColor\":2,\"fFuncStyle\":1,\"fFuncWidth\":2,\"fGridColor\":0,\"fGridStyle\":3,\"fGridWidth\":1,\"fLegendBorderSize\":1,\"fLegendFillColor\":0,\"fLegendFont\":42,\"fLegendTextSize\":0,\"fHatchesLineWidth\":1,\"fHatchesSpacing\":1,\"fFrameFillColor\":0,\"fFrameLineColor\":1,\"fFrameFillStyle\":1001,\"fFrameLineStyle\":1,\"fFrameLineWidth\":1,\"fFrameBorderSize\":1,\"fFrameBorderMode\":0,\"fHistFillColor\":0,\"fHistLineColor\":602,\"fHistFillStyle\":1001,\"fHistLineStyle\":1,\"fHistLineWidth\":1,\"fHistMinimumZero\":false,\"fHistTopMargin\":0.05,\"fCanvasPreferGL\":false,\"fCanvasColor\":0,\"fCanvasBorderSize\":2,\"fCanvasBorderMode\":0,\"fCanvasDefH\":500,\"fCanvasDefW\":700,\"fCanvasDefX\":10,\"fCanvasDefY\":10,\"fPadColor\":0,\"fPadBorderSize\":2,\"fPadBorderMode\":0,\"fPadBottomMargin\":0.1,\"fPadTopMargin\":0.1,\"fPadLeftMargin\":0.1,\"fPadRightMargin\":0.1,\"fPadGridX\":false,\"fPadGridY\":false,\"fPadTickX\":0,\"fPadTickY\":0,\"fPaperSizeX\":20,\"fPaperSizeY\":26,\"fScreenFactor\":1,\"fStatColor\":0,\"fStatTextColor\":1,\"fStatBorderSize\":1,\"fStatFont\":42,\"fStatFontSize\":0,\"fStatStyle\":1001,\"fStatFormat\":\"6.4g\",\"fStatX\":0.98,\"fStatY\":0.935,\"fStatW\":0.2,\"fStatH\":0.16,\"fStripDecimals\":true,\"fTitleAlign\":23,\"fTitleColor\":0,\"fTitleTextColor\":1,\"fTitleBorderSize\":0,\"fTitleFont\":42,\"fTitleFontSize\":0.05,\"fTitleStyle\":0,\"fTitleX\":0.5,\"fTitleY\":0.995,\"fTitleW\":0,\"fTitleH\":0,\"fLegoInnerR\":0.5,\"fLineStyles\":[\"\",\"  \",\" 12 12\",\" 4 8\",\" 12 16 4 16\",\" 20 12 4 12\",\" 20 12 4 12 4 12 4 12\",\" 20 20\",\" 20 12 4 12 4 12\",\" 80 20\",\" 80 40 4 40\",\"  \",\"  \",\"  \",\"  \",\"  \",\"  \",\"  \",\"  \",\"  \",\"  \",\"  \",\"  \",\"  \",\"  \",\"  \",\"  \",\"  \",\"  \",\"  \"],\"fHeaderPS\":\"\",\"fTitlePS\":\"\",\"fFitFormat\":\"5.4g\",\"fPaintTextFormat\":\"g\",\"fLineScalePS\":3,\"fJoinLinePS\":0,\"fCapLinePS\":0,\"fTimeOffset\":788918400,\"fImageScaling\":1}],\"opt\":[\"\",\"colz\",\"blNDC\",\"\"]},\"fExecs\":null,\"fName\":\"myCanvasName\",\"fTitle\":\"The Canvas Title\",\"fNumPaletteColor\":0,\"fNextPaletteColor\":0,\"fDISPLAY\":\"$DISPLAY\",\"fDoubleBuffer\":0,\"fRetained\":true,\"fXsizeUser\":0,\"fYsizeUser\":0,\"fXsizeReal\":20,\"fYsizeReal\":15,\"fWindowTopX\":0,\"fWindowTopY\":0,\"fWindowWidth\":0,\"fWindowHeight\":0,\"fCw\":796,\"fCh\":572,\"fCatt\":{\"_typename\":\"TAttCanvas\",\"fXBetween\":2,\"fYBetween\":2,\"fTitleFromTop\":1.2,\"fXdate\":0.2,\"fYdate\":0.3,\"fAdate\":1},\"kMoveOpaque\":true,\"kResizeOpaque\":true,\"fHighLightColor\":2,\"fBatch\":true,\"kShowEventStatus\":false,\"kAutoExec\":true,\"kMenuBar\":true});\n",
       "   Core.settings.HandleKeys = false;\n",
       "   Core.draw(\"root_plot_1709909156782\", obj, \"\");\n",
       "}\n",
       "\n",
       "function script_load_root_plot_1709909156782(src, on_error) {\n",
       "    let script = document.createElement('script');\n",
       "    script.src = src;\n",
       "    script.onload = function() { display_root_plot_1709909156782(JSROOT); };\n",
       "    script.onerror = function() { script.remove(); on_error(); };\n",
       "    document.head.appendChild(script);\n",
       "}\n",
       "\n",
       "if (typeof requirejs !== 'undefined') {\n",
       "\n",
       "    // We are in jupyter notebooks, use require.js which should be configured already\n",
       "    requirejs.config({\n",
       "       paths: { 'JSRootCore' : [ 'build/jsroot', 'https://root.cern/js/7.3.4/build/jsroot', 'https://jsroot.gsi.de/7.3.4/build/jsroot' ] }\n",
       "    })(['JSRootCore'],  function(Core) {\n",
       "       display_root_plot_1709909156782(Core);\n",
       "    });\n",
       "\n",
       "} else if (typeof JSROOT !== 'undefined') {\n",
       "\n",
       "   // JSROOT already loaded, just use it\n",
       "   display_root_plot_1709909156782(JSROOT);\n",
       "\n",
       "} else {\n",
       "\n",
       "    // We are in jupyterlab without require.js, directly loading jsroot\n",
       "    // Jupyterlab might be installed in a different base_url so we need to know it.\n",
       "    try {\n",
       "        var base_url = JSON.parse(document.getElementById('jupyter-config-data').innerHTML).baseUrl;\n",
       "    } catch(_) {\n",
       "        var base_url = '/';\n",
       "    }\n",
       "\n",
       "    // Try loading a local version of requirejs and fallback to cdn if not possible.\n",
       "    script_load_root_plot_1709909156782(base_url + 'static/build/jsroot.js', function(){\n",
       "        console.error('Fail to load JSROOT locally, please check your jupyter_notebook_config.py file');\n",
       "        script_load_root_plot_1709909156782('https://root.cern/js/7.3.4/build/jsroot.js', function(){\n",
       "            document.getElementById(\"root_plot_1709909156782\").innerHTML = \"Failed to load JSROOT\";\n",
       "        });\n",
       "    });\n",
       "}\n",
       "\n",
       "</script>\n"
      ],
      "text/plain": [
       "<IPython.core.display.HTML object>"
      ]
     },
     "metadata": {},
     "output_type": "display_data"
    }
   ],
   "source": [
    "%jsroot on\n",
    "auto c = new TCanvas(\"myCanvasName\",\"The Canvas Title\",800,600);\n",
    "t->Draw(\"Erecoil_minerva:q0 >> hist(100,0.0,2.0,100,0.0,2.0)\",\"1\",\"COLZ\");\n",
    "c->Draw();"
   ]
  },
  {
   "cell_type": "code",
   "execution_count": null,
   "id": "02d50831-3cb3-4d7c-8f69-9d7bac1a28f5",
   "metadata": {},
   "outputs": [],
   "source": []
  }
 ],
 "metadata": {
  "kernelspec": {
   "display_name": "ROOT C++",
   "language": "c++",
   "name": "root"
  },
  "language_info": {
   "codemirror_mode": "text/x-c++src",
   "file_extension": ".C",
   "mimetype": " text/x-c++src",
   "name": "c++"
  }
 },
 "nbformat": 4,
 "nbformat_minor": 5
}
